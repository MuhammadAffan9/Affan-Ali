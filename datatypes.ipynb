{
 "cells": [
  {
   "cell_type": "markdown",
   "id": "33029eca",
   "metadata": {},
   "source": [
    "# DATA TYPES"
   ]
  },
  {
   "cell_type": "markdown",
   "id": "3922b157",
   "metadata": {},
   "source": [
    "## Integer"
   ]
  },
  {
   "cell_type": "code",
   "execution_count": 4,
   "id": "202ebcde",
   "metadata": {},
   "outputs": [
    {
     "name": "stdout",
     "output_type": "stream",
     "text": [
      "100\n",
      "200\n",
      "300\n"
     ]
    }
   ],
   "source": [
    "apple = 100\n",
    "mango = 200\n",
    "banana = 300\n",
    "print(apple)\n",
    "print(mango)\n",
    "print(banana)\n"
   ]
  },
  {
   "cell_type": "markdown",
   "id": "b861989c",
   "metadata": {},
   "source": [
    "# Float"
   ]
  },
  {
   "cell_type": "code",
   "execution_count": 7,
   "id": "928259c9",
   "metadata": {},
   "outputs": [
    {
     "name": "stdout",
     "output_type": "stream",
     "text": [
      "100.0\n",
      "1.63\n",
      "10.33\n"
     ]
    }
   ],
   "source": [
    "wieght = 100.0 # in kg\n",
    "height = 1.63 # in m\n",
    "milk = 10.33 # in liters\n",
    "print (wieght)\n",
    "print (height)\n",
    "print (milk)"
   ]
  },
  {
   "cell_type": "markdown",
   "id": "67237158",
   "metadata": {},
   "source": [
    "# String"
   ]
  },
  {
   "cell_type": "code",
   "execution_count": 8,
   "id": "b782f6eb",
   "metadata": {},
   "outputs": [
    {
     "name": "stdout",
     "output_type": "stream",
     "text": [
      "Mihammad Affan\n",
      "Bhadian, Pattoki\n",
      "0300-1234567\n"
     ]
    }
   ],
   "source": [
    "namme = \"Mihammad Affan\"\n",
    "address = \"Bhadian, Pattoki\"\n",
    "phone = \"0300-1234567\"\n",
    "print (namme)\n",
    "print (address)\n",
    "print (phone)\n"
   ]
  },
  {
   "cell_type": "markdown",
   "id": "26aa76df",
   "metadata": {},
   "source": [
    "# Bollean (Bool)"
   ]
  },
  {
   "cell_type": "code",
   "execution_count": 9,
   "id": "f3119041",
   "metadata": {},
   "outputs": [
    {
     "name": "stdout",
     "output_type": "stream",
     "text": [
      "True\n",
      "False\n"
     ]
    }
   ],
   "source": [
    "laptop_on = True\n",
    "laptop_off = False\n",
    "print (laptop_on)\n",
    "print (laptop_off)"
   ]
  },
  {
   "cell_type": "markdown",
   "id": "cdffb8c8",
   "metadata": {},
   "source": [
    "# List"
   ]
  },
  {
   "cell_type": "code",
   "execution_count": null,
   "id": "bdb1dc0d",
   "metadata": {},
   "outputs": [],
   "source": [
    "person = {\n",
    "    \"name\": \"Mihammad Affan\",\n",
    "    \"age\": 20,\n",
    "    \"address\": \"Bhadian, Pattoki\",\n",
    "    \"phone\": \"0300-1234567\"\n",
    "}"
   ]
  }
 ],
 "metadata": {
  "kernelspec": {
   "display_name": "Python 3",
   "language": "python",
   "name": "python3"
  },
  "language_info": {
   "codemirror_mode": {
    "name": "ipython",
    "version": 3
   },
   "file_extension": ".py",
   "mimetype": "text/x-python",
   "name": "python",
   "nbconvert_exporter": "python",
   "pygments_lexer": "ipython3",
   "version": "3.13.2"
  }
 },
 "nbformat": 4,
 "nbformat_minor": 5
}
